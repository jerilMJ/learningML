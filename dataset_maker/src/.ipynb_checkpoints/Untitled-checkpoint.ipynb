{
 "cells": [
  {
   "cell_type": "code",
   "execution_count": null,
   "metadata": {},
   "outputs": [],
   "source": [
    "import os\n",
    "import pickle\n",
    "import numpy as np\n",
    "import matplotlib.pyplot as plt\n",
    "import glob\n",
    "\n",
    "path = \"../data/\"\n",
    "train_data = []\n",
    "train_set = []\n",
    "\n",
    "count = 0\n",
    "\n",
    "for fName in os.listdir(path):\n",
    "    img = plt.imread(path+fName)\n",
    "    plt.imshow(img)\n",
    "    train_set.append(img)\n",
    "    train_set.append(fName.split('_')[0])\n",
    "    train_data.append(train_set)\n",
    "    train_set = []\n",
    "#     if count == 5:\n",
    "#         break\n",
    "#     count += 1\n",
    "\n",
    "print(train_data)\n"
   ]
  },
  {
   "cell_type": "code",
   "execution_count": null,
   "metadata": {},
   "outputs": [],
   "source": []
  }
 ],
 "metadata": {
  "kernelspec": {
   "display_name": "Python 3",
   "language": "python",
   "name": "python3"
  },
  "language_info": {
   "codemirror_mode": {
    "name": "ipython",
    "version": 3
   },
   "file_extension": ".py",
   "mimetype": "text/x-python",
   "name": "python",
   "nbconvert_exporter": "python",
   "pygments_lexer": "ipython3",
   "version": "3.7.3"
  }
 },
 "nbformat": 4,
 "nbformat_minor": 2
}
